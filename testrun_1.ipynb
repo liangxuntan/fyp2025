{
 "cells": [
  {
   "cell_type": "code",
   "execution_count": 56,
   "id": "b10725cb",
   "metadata": {},
   "outputs": [
    {
     "name": "stdout",
     "output_type": "stream",
     "text": [
      "medianums available: ['190', '680', '742', '888', '1']\n"
     ]
    },
    {
     "data": {
      "text/html": [
       "<div>\n",
       "<style scoped>\n",
       "    .dataframe tbody tr th:only-of-type {\n",
       "        vertical-align: middle;\n",
       "    }\n",
       "\n",
       "    .dataframe tbody tr th {\n",
       "        vertical-align: top;\n",
       "    }\n",
       "\n",
       "    .dataframe thead th {\n",
       "        text-align: right;\n",
       "    }\n",
       "</style>\n",
       "<table border=\"1\" class=\"dataframe\">\n",
       "  <thead>\n",
       "    <tr style=\"text-align: right;\">\n",
       "      <th></th>\n",
       "      <th>name</th>\n",
       "      <th>190</th>\n",
       "      <th>680</th>\n",
       "      <th>742</th>\n",
       "      <th>888</th>\n",
       "      <th>1</th>\n",
       "    </tr>\n",
       "  </thead>\n",
       "  <tbody>\n",
       "    <tr>\n",
       "      <th>0</th>\n",
       "      <td>(DL)-alpha-Lipoic acid</td>\n",
       "      <td>NaN</td>\n",
       "      <td>NaN</td>\n",
       "      <td>0.000049</td>\n",
       "      <td>NaN</td>\n",
       "      <td>NaN</td>\n",
       "    </tr>\n",
       "    <tr>\n",
       "      <th>1</th>\n",
       "      <td>(NH4)2SO4</td>\n",
       "      <td>NaN</td>\n",
       "      <td>NaN</td>\n",
       "      <td>NaN</td>\n",
       "      <td>1.000000</td>\n",
       "      <td>NaN</td>\n",
       "    </tr>\n",
       "    <tr>\n",
       "      <th>2</th>\n",
       "      <td>Agar</td>\n",
       "      <td>15.0</td>\n",
       "      <td>20.0</td>\n",
       "      <td>NaN</td>\n",
       "      <td>0.500000</td>\n",
       "      <td>15.0</td>\n",
       "    </tr>\n",
       "    <tr>\n",
       "      <th>3</th>\n",
       "      <td>AlK(SO4)2 x 12 H2O</td>\n",
       "      <td>NaN</td>\n",
       "      <td>NaN</td>\n",
       "      <td>0.000198</td>\n",
       "      <td>NaN</td>\n",
       "      <td>NaN</td>\n",
       "    </tr>\n",
       "    <tr>\n",
       "      <th>4</th>\n",
       "      <td>B12</td>\n",
       "      <td>NaN</td>\n",
       "      <td>NaN</td>\n",
       "      <td>NaN</td>\n",
       "      <td>0.000001</td>\n",
       "      <td>NaN</td>\n",
       "    </tr>\n",
       "  </tbody>\n",
       "</table>\n",
       "</div>"
      ],
      "text/plain": [
       "                     name   190   680       742       888     1\n",
       "0  (DL)-alpha-Lipoic acid   NaN   NaN  0.000049       NaN   NaN\n",
       "1               (NH4)2SO4   NaN   NaN       NaN  1.000000   NaN\n",
       "2                    Agar  15.0  20.0       NaN  0.500000  15.0\n",
       "3      AlK(SO4)2 x 12 H2O   NaN   NaN  0.000198       NaN   NaN\n",
       "4                     B12   NaN   NaN       NaN  0.000001   NaN"
      ]
     },
     "execution_count": 56,
     "metadata": {},
     "output_type": "execute_result"
    }
   ],
   "source": [
    "import requests\n",
    "import pandas as pd\n",
    "from pandas import json_normalize\n",
    "import random\n",
    "\n",
    "merged_df = pd.DataFrame()\n",
    "medianums= ['190', '680', '742', '888', '1']\n",
    "\n",
    "#for num in range(1,10):\n",
    "for num in medianums:\n",
    "    url = f'https://mediadive.dsmz.de/rest/medium-composition/{num}'\n",
    "    if requests.get(url).status_code==200: \n",
    "        df = json_normalize(requests.get(url).json().get('data'))[[\"name\", \"g_l\"]]\n",
    "        df = df.rename(columns={\"g_l\": f\"{num}\"})  # give each column a unique name\n",
    "        if merged_df.empty:\n",
    "            merged_df = df\n",
    "        else:\n",
    "            merged_df = pd.merge(merged_df, df, on=\"name\", how=\"outer\")\n",
    "    else:\n",
    "        print('error',requests.get(url).status_code, ' for ',num)\n",
    "\n",
    "medianums = list(merged_df.columns[1:])\n",
    "print('medianums available:', medianums)\n",
    "merged_df.head()"
   ]
  },
  {
   "cell_type": "code",
   "execution_count": 62,
   "id": "cd33187f",
   "metadata": {},
   "outputs": [
    {
     "data": {
      "text/plain": [
       "{'190': None, '680': 11053, '742': 4034, '888': 10442, '1': 654.0}"
      ]
     },
     "execution_count": 62,
     "metadata": {},
     "output_type": "execute_result"
    }
   ],
   "source": [
    "df_list=[]\n",
    "for num in medianums:\n",
    "    url = f'https://mediadive.dsmz.de/rest/medium-strains/{num}'\n",
    "    if requests.get(url).status_code==200: \n",
    "        df = json_normalize(requests.get(url).json().get('data'))[[\"species\",\"bacdive_id\"]]\n",
    "        df = df.rename(columns={\"species\": f\"species_{num}\",\"bacdive_id\": f\"id_{num}\"})  # give each column a unique name\n",
    "        df_list.append(df)\n",
    "    else:\n",
    "        print('error',requests.get(url).status_code, ' for ',num)\n",
    "merged_dfstrains = pd.concat(df_list, axis=1)\n",
    "\n",
    "merged_dfstrains.head()\n",
    "\n",
    "bacdive_id_dict = {}\n",
    "\n",
    "for num in medianums:\n",
    "    url = f'https://mediadive.dsmz.de/rest/medium-strains/{num}'\n",
    "    response = requests.get(url)\n",
    "    \n",
    "    if response.status_code == 200:\n",
    "        data = response.json().get('data', [])\n",
    "        if data:  # check if data list is not empty\n",
    "            df = json_normalize(data)\n",
    "            if \"bacdive_id\" in df.columns and not df.empty:\n",
    "                first_id = df.iloc[0][\"bacdive_id\"]  # iloc needs integer index and column name as string\n",
    "                bacdive_id_dict[num] = first_id\n",
    "            else:\n",
    "                print(f\"No 'bacdive_id' found in data for {num}\")\n",
    "                bacdive_id_dict[num] = None\n",
    "        else:\n",
    "            print(f\"No data found for {num}\")\n",
    "            bacdive_id_dict[num] = None\n",
    "    else:\n",
    "        print(f\"Error {response.status_code} for {num}\")\n",
    "        bacdive_id_dict[num] = None\n",
    "\n",
    "bacdive_id_dict\n"
   ]
  },
  {
   "cell_type": "code",
   "execution_count": 77,
   "id": "0fa71bd9",
   "metadata": {},
   "outputs": [
    {
     "name": "stdout",
     "output_type": "stream",
     "text": [
      "-- Authentication successful --\n",
      "medianum: 190 Strain bacdiveID: None\n",
      "No valid BacDive ID found for 190\n",
      "medianum: 680 Strain bacdiveID: 11053\n",
      "Tax ID: 39122\n",
      "medianum: 742 Strain bacdiveID: 4034\n",
      "Tax ID: 53245\n",
      "medianum: 888 Strain bacdiveID: 10442\n",
      "Tax ID: 682713\n",
      "medianum: 1 Strain bacdiveID: 654.0\n",
      "Tax ID: 1398\n"
     ]
    },
    {
     "data": {
      "text/plain": [
       "{'680': 39122, '742': 53245, '888': 682713, '1': 1398}"
      ]
     },
     "execution_count": 77,
     "metadata": {},
     "output_type": "execute_result"
    }
   ],
   "source": [
    "import bacdive\n",
    "client = bacdive.BacdiveClient('tanliangxun2000@gmail.com', 'pass1234')\n",
    "\n",
    "media_ncbi_dict = {}\n",
    "for num in medianums:\n",
    "    bacdive_id = bacdive_id_dict.get(num)\n",
    "    print(f\"medianum: {num} Strain bacdiveID: {bacdive_id}\")\n",
    "    \n",
    "    if bacdive_id is not None:\n",
    "        strain_data = client.search(id=int(bacdive_id))\n",
    "        \n",
    "        for strain in client.retrieve(['NCBI tax id']):\n",
    "            strain_key = list(strain)[0]\n",
    "            ncbi_list = strain[strain_key]  # this is always a list\n",
    "            \n",
    "            for entry in ncbi_list:\n",
    "                ncbi_info = entry.get('NCBI tax id')\n",
    "                \n",
    "                if isinstance(ncbi_info, dict):\n",
    "                    tax_id = ncbi_info.get('NCBI tax id')\n",
    "                    level = ncbi_info.get('Matching level')\n",
    "                    if level == 'species':\n",
    "                        print(f\"Tax ID: {tax_id}\")\n",
    "\n",
    "                elif isinstance(ncbi_info, list):\n",
    "                    for subentry in ncbi_info:\n",
    "                        tax_id = subentry.get('NCBI tax id')\n",
    "                        level = subentry.get('Matching level')\n",
    "                        if level == 'species':\n",
    "                            print(f\"Tax ID: {tax_id}\")\n",
    "\n",
    "                else:\n",
    "                    # You can skip or print unexpected formats if needed\n",
    "                    pass\n",
    "        media_ncbi_dict[num]= tax_id\n",
    "    else:\n",
    "        print(f\"No valid BacDive ID found for {num}\")\n",
    "\n",
    "media_ncbi_dict\n",
    "# client.search(id='4437;4453')\n",
    "\n",
    "# # for strain in client.retrieve():\n",
    "# #     print(strain[\"General\"])\n",
    "# for strain in client.retrieve(['NCBI tax id']):\n",
    "#     # print(strain)\n",
    "#     # print(strain[list(strain)[0]])\n",
    "#     print(strain[list(strain)[0]][0]['NCBI tax id']['NCBI tax id'])"
   ]
  },
  {
   "cell_type": "code",
   "execution_count": 83,
   "id": "3782c861",
   "metadata": {},
   "outputs": [
    {
     "name": "stdout",
     "output_type": "stream",
     "text": [
      "→ Processing TaxID 562\n",
      "→ Processing TaxID 384\n",
      "✓ Finished. Full log: /Users/liangxuntan/Code/fyp2025/data/logs/taxid2fna_20250519_105046.log\n"
     ]
    },
    {
     "data": {
      "text/plain": [
       "CompletedProcess(args=['/Users/liangxuntan/Code/fyp2025/scripts/run_taxid2fna.sh', '562', '384'], returncode=0)"
      ]
     },
     "execution_count": 83,
     "metadata": {},
     "output_type": "execute_result"
    }
   ],
   "source": [
    "import subprocess\n",
    "import shlex   # for safe quoting if you ever need it\n",
    "\n",
    "# Grab the *values* (index 1) from each (key, value) pair\n",
    "taxid_list = [item[1] for item in media_ncbi_dict.items()]   # e.g. [1, 3, 4]\n",
    "\n",
    "# Build the command as a list (avoid shell-string pitfalls)\n",
    "cmd = [\n",
    "    \"/Users/liangxuntan/Code/fyp2025/scripts/run_taxid2fna.sh\",\n",
    "    *map(str, [562, 384])            # unpack TaxIDs as separate args\n",
    "]\n",
    "\n",
    "# Run it\n",
    "subprocess.run(cmd, check=True)"
   ]
  },
  {
   "cell_type": "code",
   "execution_count": null,
   "id": "69518537",
   "metadata": {},
   "outputs": [
    {
     "name": "stderr",
     "output_type": "stream",
     "text": [
      "/Users/liangxuntan/anaconda3/envs/mne/lib/python3.11/site-packages/Bio/SeqRecord.py:228: BiopythonDeprecationWarning: Using a string as the sequence is deprecated and will raise a TypeError in future. It has been converted to a Seq object.\n",
      "  warnings.warn(\n"
     ]
    },
    {
     "name": "stdout",
     "output_type": "stream",
     "text": [
      "Written 350 protein sequences to '/Users/liangxuntan/Code/fyp2025/data/prodigal_output/222_predictedproteins.prot'\n"
     ]
    }
   ],
   "source": [
    "import subprocess\n",
    "from pathlib import Path\n",
    "\n",
    "fasta_dir = Path(\"/Users/liangxuntan/Code/fyp2025/data/labelled_genomes\")\n",
    "fna_files = sorted(fasta_dir.glob(\"*.fna\"))\n",
    "\n",
    "# --- or: run on ALL .fna files ---------------------------------------------\n",
    "for fna in fna_files:\n",
    "#for fna in [fna_files[0]]:\n",
    "    subprocess.run(\n",
    "        [\"/Users/liangxuntan/Code/fyp2025/scripts/fna2prot.py\", str(fna)],\n",
    "        check=True\n",
    "    )"
   ]
  },
  {
   "cell_type": "code",
   "execution_count": 102,
   "id": "0a6fe4b2",
   "metadata": {},
   "outputs": [
    {
     "name": "stderr",
     "output_type": "stream",
     "text": [
      "/Users/liangxuntan/anaconda3/envs/mne/lib/python3.11/site-packages/Bio/SeqRecord.py:228: BiopythonDeprecationWarning: Using a string as the sequence is deprecated and will raise a TypeError in future. It has been converted to a Seq object.\n",
      "  warnings.warn(\n",
      "/Users/liangxuntan/anaconda3/envs/mne/lib/python3.11/site-packages/Bio/SeqRecord.py:228: BiopythonDeprecationWarning: Using a string as the sequence is deprecated and will raise a TypeError in future. It has been converted to a Seq object.\n",
      "  warnings.warn(\n",
      "/Users/liangxuntan/anaconda3/envs/mne/lib/python3.11/site-packages/Bio/SeqRecord.py:228: BiopythonDeprecationWarning: Using a string as the sequence is deprecated and will raise a TypeError in future. It has been converted to a Seq object.\n",
      "  warnings.warn(\n"
     ]
    },
    {
     "name": "stdout",
     "output_type": "stream",
     "text": [
      "Written 350 protein sequences to '/Users/liangxuntan/Code/fyp2025/data/prodigal_output/222_predictedproteins.prot'\n"
     ]
    },
    {
     "name": "stderr",
     "output_type": "stream",
     "text": [
      "/Users/liangxuntan/anaconda3/envs/mne/lib/python3.11/site-packages/Bio/SeqRecord.py:228: BiopythonDeprecationWarning: Using a string as the sequence is deprecated and will raise a TypeError in future. It has been converted to a Seq object.\n",
      "  warnings.warn(\n"
     ]
    },
    {
     "name": "stdout",
     "output_type": "stream",
     "text": [
      "Written 210 protein sequences to '/Users/liangxuntan/Code/fyp2025/data/prodigal_output/562_predictedproteins.prot'\n",
      "Written 346 protein sequences to '/Users/liangxuntan/Code/fyp2025/data/prodigal_output/382_predictedproteins.prot'\n",
      "Written 321 protein sequences to '/Users/liangxuntan/Code/fyp2025/data/prodigal_output/384_predictedproteins.prot'\n",
      "Protein prediction output files:\n",
      "/Users/liangxuntan/Code/fyp2025/data/prodigal_output/222_predictedproteins.prot\n",
      "/Users/liangxuntan/Code/fyp2025/data/prodigal_output/382_predictedproteins.prot\n",
      "/Users/liangxuntan/Code/fyp2025/data/prodigal_output/384_predictedproteins.prot\n",
      "/Users/liangxuntan/Code/fyp2025/data/prodigal_output/562_predictedproteins.prot\n"
     ]
    }
   ],
   "source": [
    "from pathlib import Path\n",
    "from fna2prot_parallel import run_all\n",
    "\n",
    "fasta_dir = Path(\"/Users/liangxuntan/Code/fyp2025/data/labelled_genomes\")\n",
    "fna_files = sorted(fasta_dir.glob(\"*.fna\"))\n",
    "evalue = \"1e-50\"\n",
    "\n",
    "results = run_all(fna_files, evalue, nproc=4)\n",
    "\n",
    "print(\"Protein prediction output files:\")\n",
    "for r in results:\n",
    "    print(r)"
   ]
  },
  {
   "cell_type": "code",
   "execution_count": null,
   "id": "4fd9d630",
   "metadata": {},
   "outputs": [],
   "source": []
  }
 ],
 "metadata": {
  "kernelspec": {
   "display_name": "mne",
   "language": "python",
   "name": "python3"
  },
  "language_info": {
   "codemirror_mode": {
    "name": "ipython",
    "version": 3
   },
   "file_extension": ".py",
   "mimetype": "text/x-python",
   "name": "python",
   "nbconvert_exporter": "python",
   "pygments_lexer": "ipython3",
   "version": "3.11.10"
  }
 },
 "nbformat": 4,
 "nbformat_minor": 5
}
