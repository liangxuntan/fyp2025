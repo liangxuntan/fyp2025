{
 "cells": [
  {
   "cell_type": "code",
   "execution_count": 1,
   "id": "90ab4983",
   "metadata": {},
   "outputs": [
    {
     "data": {
      "text/plain": [
       "<module 'gmcfunctions3' from '/Users/liangxuntan/Code/fyp2025/scripts/gmcfunctions3.py'>"
      ]
     },
     "execution_count": 1,
     "metadata": {},
     "output_type": "execute_result"
    }
   ],
   "source": [
    "%load_ext autoreload\n",
    "%autoreload 2\n",
    "\n",
    "import sys\n",
    "import importlib\n",
    "\n",
    "sys.path.append(\"/Users/liangxuntan/Code/fyp2025/scripts\")\n",
    "\n",
    "import gmcfunctions3 as gmc\n",
    "importlib.reload(gmc)"
   ]
  },
  {
   "cell_type": "code",
   "execution_count": 2,
   "id": "4cf9d979",
   "metadata": {},
   "outputs": [
    {
     "name": "stdout",
     "output_type": "stream",
     "text": [
      "Error 404 for 100\n",
      "Error 404 for 102\n",
      "Error 404 for 103\n",
      "Error 404 for 106\n",
      "Error 404 for 107\n",
      "Saved BacDive ID dictionary to /Users/liangxuntan/Code/fyp2025/data/num2bacid.json\n"
     ]
    }
   ],
   "source": [
    "num2bacdic=gmc.num2bacid_dict(range(100,110),\n",
    "                              save_path=\"/Users/liangxuntan/Code/fyp2025/data/num2bacid.json\")\n"
   ]
  },
  {
   "cell_type": "code",
   "execution_count": 3,
   "id": "e0885d18",
   "metadata": {},
   "outputs": [
    {
     "name": "stdout",
     "output_type": "stream",
     "text": [
      "-- Authentication successful --\n",
      "mediaID = 101 BacDive ID = 12685\n",
      "  » species-level taxid 28109\n",
      "mediaID = 101 BacDive ID = 13011\n",
      "  » species-level taxid 1211807\n",
      "  » species-level taxid 316\n",
      "  » species-level taxid 203192\n",
      "mediaID = 101 BacDive ID = 11955\n",
      "  » species-level taxid 1373\n",
      "mediaID = 101 BacDive ID = 17275\n",
      "  » species-level taxid 671\n",
      "mediaID = 101 BacDive ID = 17262\n",
      "  » species-level taxid 669\n",
      "mediaID = 101 BacDive ID = 17272\n",
      "  » species-level taxid 678\n",
      "mediaID = 101 BacDive ID = 17347\n",
      "  » species-level taxid 552386\n",
      "mediaID = 104 BacDive ID = 17860\n",
      "  » species-level taxid 40542\n",
      "mediaID = 104 BacDive ID = 17118\n",
      "  » species-level taxid 82203\n",
      "mediaID = 104 BacDive ID = 18068\n",
      "  » species-level taxid 33035\n",
      "mediaID = 104 BacDive ID = 17969\n",
      "  » species-level taxid 33036\n",
      "mediaID = 104 BacDive ID = 5436\n",
      "  » species-level taxid 83340\n",
      "mediaID = 104 BacDive ID = 5448\n",
      "  » species-level taxid 39496\n",
      "mediaID = 104 BacDive ID = 1596\n",
      "  » species-level taxid 1891233\n",
      "mediaID = 104 BacDive ID = 1597\n",
      "  » species-level taxid 1891233\n",
      "mediaID = 105 BacDive ID = 1\n",
      "  » species-level taxid 435\n",
      "mediaID = 105 BacDive ID = 47\n",
      "  » species-level taxid 442\n",
      "mediaID = 105 BacDive ID = 87\n",
      "  » species-level taxid 28448\n",
      "mediaID = 105 BacDive ID = 3\n",
      "  » species-level taxid 178900\n",
      "mediaID = 105 BacDive ID = 86\n",
      "  » species-level taxid 28448\n",
      "mediaID = 108 BacDive ID = 30\n",
      "  » species-level taxid 76588\n",
      "mediaID = 109 BacDive ID = 6158\n",
      "  » species-level taxid 50712\n",
      "mediaID = 109 BacDive ID = 6159\n",
      "  » species-level taxid 50712\n",
      "Saved taxid mapping dictionary to /Users/liangxuntan/Code/fyp2025/data/num2taxid.json\n"
     ]
    }
   ],
   "source": [
    "num2taxdic=gmc.map_taxids_1to1_fast(\n",
    "        num2bacdic,\n",
    "        save_path=\"/Users/liangxuntan/Code/fyp2025/data/num2taxid.json\",\n",
    "        min_instance=2)"
   ]
  },
  {
   "cell_type": "code",
   "execution_count": 5,
   "id": "380b4a79",
   "metadata": {},
   "outputs": [
    {
     "name": "stdout",
     "output_type": "stream",
     "text": [
      "-- Authentication successful --\n",
      "mediaID = 101 BacDive ID = 12685\n",
      "Found phylum: Pseudomonadota\n",
      "Found phylum: Proteobacteria\n",
      "mediaID = 101 BacDive ID = 13011\n",
      "Found phylum: Pseudomonadota\n",
      "mediaID = 104 BacDive ID = 17860\n",
      "Found phylum: Fusobacteriota\n",
      "Found phylum: Fusobacteria\n",
      "mediaID = 104 BacDive ID = 17118\n",
      "Found phylum: Bacillota\n",
      "Found phylum: Firmicutes\n",
      "mediaID = 104 BacDive ID = 18068\n",
      "Found phylum: Bacillota\n",
      "mediaID = 105 BacDive ID = 1\n",
      "Found phylum: Pseudomonadota\n",
      "Found phylum: Proteobacteria\n",
      "mediaID = 105 BacDive ID = 47\n",
      "Found phylum: Pseudomonadota\n",
      "mediaID = 108 BacDive ID = 30\n",
      "Found phylum: Pseudomonadota\n",
      "mediaID = 109 BacDive ID = 6158\n",
      "Found phylum: Pseudomonadota\n",
      "Found phylum: Proteobacteria\n",
      "mediaID = 109 BacDive ID = 6159\n",
      "Found phylum: Pseudomonadota\n",
      "Saved taxlevel mapping dictionary to /Users/liangxuntan/Code/fyp2025/data/num2phylum.json\n"
     ]
    }
   ],
   "source": [
    "num2phylumdic=gmc.map_taxlevel_1to1_fast(\n",
    "            num2bacdic,\n",
    "            save_path=\"/Users/liangxuntan/Code/fyp2025/data/num2phylum.json\",\n",
    "            taxlevel=\"phylum\",\n",
    "            min_instance=2)\n"
   ]
  },
  {
   "cell_type": "code",
   "execution_count": 6,
   "id": "5fc138f0",
   "metadata": {},
   "outputs": [
    {
     "name": "stdout",
     "output_type": "stream",
     "text": [
      "Error 404 for medium ID 100\n",
      "Error 404 for medium ID 103\n",
      "Error 404 for medium ID 106\n",
      "Error 404 for medium ID 107\n",
      "Data saved to /Users/liangxuntan/Code/fyp2025/data/media_df.csv\n"
     ]
    }
   ],
   "source": [
    "media_df=gmc.get_media_ingredient_matrix(\n",
    "    range(100, 110),\n",
    "    binary=False,\n",
    "    save_path=\"/Users/liangxuntan/Code/fyp2025/data/media_df.csv\"\n",
    ")"
   ]
  },
  {
   "cell_type": "code",
   "execution_count": 7,
   "id": "41c688b6",
   "metadata": {},
   "outputs": [
    {
     "name": "stdout",
     "output_type": "stream",
     "text": [
      "Number of unique taxids: 4\n"
     ]
    }
   ],
   "source": [
    "taxids= set(num2taxdic.values())\n",
    "print(\"Number of unique taxids:\", len(taxids))"
   ]
  },
  {
   "cell_type": "code",
   "execution_count": null,
   "id": "4ff904a2",
   "metadata": {},
   "outputs": [
    {
     "name": "stdout",
     "output_type": "stream",
     "text": [
      "Running: /Users/liangxuntan/Code/fyp2025/scripts/run_taxid2fna.sh 28448 1891233 76588 50712\n",
      "→ Processing TaxID 28448\n",
      "→ Processing TaxID 1891233\n",
      "→ Processing TaxID 76588\n",
      "→ Processing TaxID 50712\n",
      "✓ Finished. Full log: \"/Users/liangxuntan/Code/fyp2025/data/logs/taxid2fna_20250607_203220.log\"\n",
      "✅ Success: 28448 76588 50712\n",
      "❌ Failed: 1891233\n"
     ]
    }
   ],
   "source": [
    "gmc.run_taxid2fna(taxids)"
   ]
  },
  {
   "cell_type": "code",
   "execution_count": 10,
   "id": "b14cf339",
   "metadata": {},
   "outputs": [
    {
     "name": "stderr",
     "output_type": "stream",
     "text": [
      "/Users/liangxuntan/anaconda3/envs/mne/lib/python3.11/site-packages/Bio/SeqRecord.py:228: BiopythonDeprecationWarning: Using a string as the sequence is deprecated and will raise a TypeError in future. It has been converted to a Seq object.\n",
      "  warnings.warn(\n",
      "/Users/liangxuntan/anaconda3/envs/mne/lib/python3.11/site-packages/Bio/SeqRecord.py:228: BiopythonDeprecationWarning: Using a string as the sequence is deprecated and will raise a TypeError in future. It has been converted to a Seq object.\n",
      "  warnings.warn(\n",
      "[2025-06-07 20:35:00,296 INFO] Written 164 protein sequences to '/Users/liangxuntan/Code/fyp2025/data/prodigal_output/50712_predictedproteins.prot'\n",
      "[2025-06-07 20:35:00,296 INFO] Finished: /Users/liangxuntan/Code/fyp2025/data/labelled_genomes/50712_GCF_008630065.1_ASM863006v1_genomic.fna → /Users/liangxuntan/Code/fyp2025/data/prodigal_output/50712_predictedproteins.prot\n",
      "/Users/liangxuntan/anaconda3/envs/mne/lib/python3.11/site-packages/Bio/SeqRecord.py:228: BiopythonDeprecationWarning: Using a string as the sequence is deprecated and will raise a TypeError in future. It has been converted to a Seq object.\n",
      "  warnings.warn(\n",
      "[2025-06-07 20:35:13,022 INFO] Written 193 protein sequences to '/Users/liangxuntan/Code/fyp2025/data/prodigal_output/76588_predictedproteins.prot'\n",
      "[2025-06-07 20:35:13,022 INFO] Finished: /Users/liangxuntan/Code/fyp2025/data/labelled_genomes/76588_GCF_033842475.1_ASM3384247v1_genomic.fna → /Users/liangxuntan/Code/fyp2025/data/prodigal_output/76588_predictedproteins.prot\n",
      "[2025-06-07 20:35:14,495 INFO] Written 128 protein sequences to '/Users/liangxuntan/Code/fyp2025/data/prodigal_output/28448_predictedproteins.prot'\n",
      "[2025-06-07 20:35:14,495 INFO] Finished: /Users/liangxuntan/Code/fyp2025/data/labelled_genomes/28448_GCF_004006375.1_ASM400637v1_genomic.fna → /Users/liangxuntan/Code/fyp2025/data/prodigal_output/28448_predictedproteins.prot\n"
     ]
    },
    {
     "data": {
      "text/plain": [
       "[PosixPath('/Users/liangxuntan/Code/fyp2025/data/prodigal_output/28448_predictedproteins.prot'),\n",
       " PosixPath('/Users/liangxuntan/Code/fyp2025/data/prodigal_output/50712_predictedproteins.prot'),\n",
       " PosixPath('/Users/liangxuntan/Code/fyp2025/data/prodigal_output/76588_predictedproteins.prot')]"
      ]
     },
     "execution_count": 10,
     "metadata": {},
     "output_type": "execute_result"
    }
   ],
   "source": [
    "gmc.run_protein_prediction(\n",
    "    fasta_dir_path=\"/Users/liangxuntan/Code/fyp2025/data/labelled_genomes\",\n",
    "    evalue='1e-50',\n",
    "    nproc=4,\n",
    "    taxids=None)"
   ]
  },
  {
   "cell_type": "code",
   "execution_count": 13,
   "id": "e09f0675",
   "metadata": {},
   "outputs": [
    {
     "name": "stdout",
     "output_type": "stream",
     "text": [
      "Running: /Users/liangxuntan/Code/fyp2025/scripts/prot2pfam.sh -j 4 -e 1e-20 /Users/liangxuntan/Code/fyp2025/data/prodigal_output/28448_predictedproteins.prot /Users/liangxuntan/Code/fyp2025/data/prodigal_output/50712_predictedproteins.prot /Users/liangxuntan/Code/fyp2025/data/prodigal_output/76588_predictedproteins.prot\n",
      "▶ Starting parallel hmmscan ( Sat Jun  7 20:39:52 BST 2025 ) on 3 file(s)\n",
      "Running 4 job(s) × 1 thread(s) each\n",
      "→ Processing 28448_predictedproteins.prot ➜ /Users/liangxuntan/Code/fyp2025/data/hmmer_output/28448_pfam.tbl\n",
      "✓ Finished 28448_predictedproteins.prot in 33s\n",
      "→ Processing 50712_predictedproteins.prot ➜ /Users/liangxuntan/Code/fyp2025/data/hmmer_output/50712_pfam.tbl\n",
      "✓ Finished 50712_predictedproteins.prot in 40s\n",
      "→ Processing 76588_predictedproteins.prot ➜ /Users/liangxuntan/Code/fyp2025/data/hmmer_output/76588_pfam.tbl\n",
      "✓ Finished 76588_predictedproteins.prot in 45s\n",
      "✔ All done ( Sat Jun  7 20:40:37 BST 2025 ). Full log: /Users/liangxuntan/Code/fyp2025/data/logs/prot2pfam_20250607_203952.log\n"
     ]
    },
    {
     "data": {
      "text/plain": [
       "CompletedProcess(args=['/Users/liangxuntan/Code/fyp2025/scripts/prot2pfam.sh', '-j', '4', '-e', '1e-20', '/Users/liangxuntan/Code/fyp2025/data/prodigal_output/28448_predictedproteins.prot', '/Users/liangxuntan/Code/fyp2025/data/prodigal_output/50712_predictedproteins.prot', '/Users/liangxuntan/Code/fyp2025/data/prodigal_output/76588_predictedproteins.prot'], returncode=0)"
      ]
     },
     "execution_count": 13,
     "metadata": {},
     "output_type": "execute_result"
    }
   ],
   "source": [
    "gmc.run_prot2pfam(\"/Users/liangxuntan/Code/fyp2025/data/prodigal_output\",\n",
    "                  jobs=4,\n",
    "                  evalue='1e-20',\n",
    "                  taxids=None)"
   ]
  },
  {
   "cell_type": "code",
   "execution_count": 16,
   "id": "8ff881e0",
   "metadata": {},
   "outputs": [],
   "source": [
    "pfam_df=gmc.build_pfam_matrix2(\n",
    "    hmmeroutputdir='/Users/liangxuntan/Code/fyp2025/data/hmmer_output',  # directory containing all input .tbl files\n",
    "    num2taxid=num2taxdic,       # dictionary mapping medianum to taxid\n",
    "    ethreshold='1e-20',   # E-value threshold for including hits\n",
    "    save_path='/Users/liangxuntan/Code/fyp2025/data/pfam_df.csv',  # optional path to save output DataFrame as CSV\n",
    "    binary=False,   # if True, output will be binary matrix (presence/absence)\n",
    "    acc_to_name_dict=None,  # optional: dict mapping pfam accession ID to domain name\n",
    ")"
   ]
  }
 ],
 "metadata": {
  "kernelspec": {
   "display_name": "mne",
   "language": "python",
   "name": "python3"
  },
  "language_info": {
   "codemirror_mode": {
    "name": "ipython",
    "version": 3
   },
   "file_extension": ".py",
   "mimetype": "text/x-python",
   "name": "python",
   "nbconvert_exporter": "python",
   "pygments_lexer": "ipython3",
   "version": "3.11.10"
  }
 },
 "nbformat": 4,
 "nbformat_minor": 5
}
